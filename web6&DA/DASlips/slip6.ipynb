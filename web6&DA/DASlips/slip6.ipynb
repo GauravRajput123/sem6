{
  "nbformat": 4,
  "nbformat_minor": 0,
  "metadata": {
    "colab": {
      "provenance": []
    },
    "kernelspec": {
      "name": "python3",
      "display_name": "Python 3"
    },
    "language_info": {
      "name": "python"
    }
  },
  "cells": [
    {
      "cell_type": "markdown",
      "source": [
        "Create the following dataset in python & Convert the categorical values into numeric format.Apply\n",
        "the apriori algorithm on the above dataset to generate the frequent itemsets and association rules. Repeat\n",
        "the process with different min_sup values."
      ],
      "metadata": {
        "id": "VEapcw5kx1D2"
      }
    },
    {
      "cell_type": "code",
      "source": [
        "import pandas as pd\n",
        "from mlxtend.frequent_patterns import apriori,association_rules\n",
        "from mlxtend.preprocessing import TransactionEncoder\n",
        "\n",
        "transactions = [['Bread','Milk'],\n",
        "                ['Bread','Diaper','Beer','Eggs'],\n",
        "                ['Milk','Diaper','Beer','Coke'],\n",
        "                ['Bread', 'Milk','Diaper','Beer'],\n",
        "                ['Bread' ,'Milk','Diaper','Coke']]\n",
        "\n",
        "te = TransactionEncoder()\n",
        "te_array = te.fit(transactions).transform(transactions)\n",
        "\n",
        "df = pd.DataFrame(te_array , columns = te.columns_)\n",
        "\n",
        "freq_items = apriori(df,min_support = 0.5\n",
        "                      ,use_colnames=True)\n",
        "print(freq_items)\n",
        "\n",
        "rules = association_rules(freq_items,metric='support', min_threshold=0.05)\n",
        "rules = rules.sort_values(['support','confidence'] , ascending=[False,False])\n",
        "\n",
        "print(rules)"
      ],
      "metadata": {
        "colab": {
          "base_uri": "https://localhost:8080/"
        },
        "id": "8NoODMPJx3CO",
        "outputId": "c0a7d640-25d4-4f4d-882b-da88886e9e76"
      },
      "execution_count": null,
      "outputs": [
        {
          "output_type": "stream",
          "name": "stdout",
          "text": [
            "   support         itemsets\n",
            "0      0.6           (Beer)\n",
            "1      0.8          (Bread)\n",
            "2      0.8         (Diaper)\n",
            "3      0.8           (Milk)\n",
            "4      0.6   (Beer, Diaper)\n",
            "5      0.6  (Bread, Diaper)\n",
            "6      0.6    (Bread, Milk)\n",
            "7      0.6   (Milk, Diaper)\n",
            "  antecedents consequents  antecedent support  consequent support  support  \\\n",
            "0      (Beer)    (Diaper)                 0.6                 0.8      0.6   \n",
            "1    (Diaper)      (Beer)                 0.8                 0.6      0.6   \n",
            "2     (Bread)    (Diaper)                 0.8                 0.8      0.6   \n",
            "3    (Diaper)     (Bread)                 0.8                 0.8      0.6   \n",
            "4     (Bread)      (Milk)                 0.8                 0.8      0.6   \n",
            "5      (Milk)     (Bread)                 0.8                 0.8      0.6   \n",
            "6      (Milk)    (Diaper)                 0.8                 0.8      0.6   \n",
            "7    (Diaper)      (Milk)                 0.8                 0.8      0.6   \n",
            "\n",
            "   confidence    lift  leverage  conviction  zhangs_metric  \n",
            "0        1.00  1.2500      0.12         inf           0.50  \n",
            "1        0.75  1.2500      0.12         1.6           1.00  \n",
            "2        0.75  0.9375     -0.04         0.8          -0.25  \n",
            "3        0.75  0.9375     -0.04         0.8          -0.25  \n",
            "4        0.75  0.9375     -0.04         0.8          -0.25  \n",
            "5        0.75  0.9375     -0.04         0.8          -0.25  \n",
            "6        0.75  0.9375     -0.04         0.8          -0.25  \n",
            "7        0.75  0.9375     -0.04         0.8          -0.25  \n"
          ]
        }
      ]
    }
  ]
}
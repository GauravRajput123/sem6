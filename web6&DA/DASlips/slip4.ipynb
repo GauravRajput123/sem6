{
  "nbformat": 4,
  "nbformat_minor": 0,
  "metadata": {
    "colab": {
      "provenance": []
    },
    "kernelspec": {
      "name": "python3",
      "display_name": "Python 3"
    },
    "language_info": {
      "name": "python"
    }
  },
  "cells": [
    {
      "cell_type": "markdown",
      "source": [
        "Build a simple linear regression model for Fish Species Weight Prediction"
      ],
      "metadata": {
        "id": "PuDYlFWhsf3P"
      }
    },
    {
      "cell_type": "code",
      "source": [
        "import pandas as pd\n",
        "import numpy as np\n",
        "from sklearn.model_selection import train_test_split\n",
        "from sklearn.linear_model import LinearRegression\n",
        "from sklearn.metrics import mean_squared_error, r2_score"
      ],
      "metadata": {
        "id": "DGRPx5EdsiKP"
      },
      "execution_count": null,
      "outputs": []
    },
    {
      "cell_type": "code",
      "source": [
        "# Load the dataset\n",
        "fish_data = pd.read_csv(\"/content/fish_data.csv\")\n",
        "\n",
        "# Separate features (X) and target variable (y)\n",
        "X = fish_data[['Length1', 'Length2', 'Length3', 'Height']]\n",
        "y = fish_data['Weight']\n",
        "\n",
        "# Split the dataset into training and testing sets\n",
        "X_train, X_test, y_train, y_test = train_test_split(X, y, test_size=0.2, random_state=42)"
      ],
      "metadata": {
        "id": "h4SDodGcsroV"
      },
      "execution_count": null,
      "outputs": []
    },
    {
      "cell_type": "code",
      "source": [
        "# Create a linear regression model\n",
        "model = LinearRegression()\n",
        "\n",
        "# Train the model using the training sets\n",
        "model.fit(X_train, y_train)\n",
        "\n",
        "# Make predictions using the testing set\n",
        "y_pred = model.predict(X_test)"
      ],
      "metadata": {
        "id": "gJkgClsctF_2"
      },
      "execution_count": null,
      "outputs": []
    },
    {
      "cell_type": "code",
      "source": [
        "\n",
        "# Model evaluation\n",
        "mse = mean_squared_error(y_test, y_pred)\n",
        "r2 = r2_score(y_test, y_pred)\n",
        "\n",
        "print(\"Mean Squared Error:\", mse)\n",
        "print(\"R-squared Score:\", r2)\n",
        "\n",
        "print(y_pred)"
      ],
      "metadata": {
        "id": "cpoSK6oItJq3",
        "outputId": "4414c5b3-690a-4866-dc93-85c7fdcc3557",
        "colab": {
          "base_uri": "https://localhost:8080/"
        }
      },
      "execution_count": null,
      "outputs": [
        {
          "output_type": "stream",
          "name": "stdout",
          "text": [
            "Mean Squared Error: 3147.2427878593166\n",
            "R-squared Score: 0.9180448208984084\n",
            "[228.46092572 589.08331041 602.54942123 299.83122786]\n"
          ]
        }
      ]
    }
  ]
}
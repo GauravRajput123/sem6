{
  "nbformat": 4,
  "nbformat_minor": 0,
  "metadata": {
    "colab": {
      "provenance": []
    },
    "kernelspec": {
      "name": "python3",
      "display_name": "Python 3"
    },
    "language_info": {
      "name": "python"
    }
  },
  "cells": [
    {
      "cell_type": "markdown",
      "source": [
        "Consider text paragraph.\"\"\"Hello all, Welcome to Python Programming Academy. Python\n",
        "Programming Academy is a nice platform to learn new programming skills. It is difficult to get enrolled\n",
        "in this Academy.\"\"\"Remove the stopwords."
      ],
      "metadata": {
        "id": "SVJCr88nhJPE"
      }
    },
    {
      "cell_type": "code",
      "source": [
        "pip install nltk"
      ],
      "metadata": {
        "colab": {
          "base_uri": "https://localhost:8080/"
        },
        "id": "9OURqMJ34Y-p",
        "outputId": "bde3a998-5ff8-4008-f68f-8d3c3adc7321"
      },
      "execution_count": null,
      "outputs": [
        {
          "output_type": "stream",
          "name": "stdout",
          "text": [
            "Requirement already satisfied: nltk in /usr/local/lib/python3.10/dist-packages (3.8.1)\n",
            "Requirement already satisfied: click in /usr/local/lib/python3.10/dist-packages (from nltk) (8.1.7)\n",
            "Requirement already satisfied: joblib in /usr/local/lib/python3.10/dist-packages (from nltk) (1.4.0)\n",
            "Requirement already satisfied: regex>=2021.8.3 in /usr/local/lib/python3.10/dist-packages (from nltk) (2023.12.25)\n",
            "Requirement already satisfied: tqdm in /usr/local/lib/python3.10/dist-packages (from nltk) (4.66.2)\n"
          ]
        }
      ]
    },
    {
      "cell_type": "code",
      "source": [
        "nltk.download('punkt')"
      ],
      "metadata": {
        "colab": {
          "base_uri": "https://localhost:8080/"
        },
        "id": "MCohBWUE4agt",
        "outputId": "85e79a1a-e44c-4ca5-a04f-f94ec66bc4b7"
      },
      "execution_count": null,
      "outputs": [
        {
          "output_type": "stream",
          "name": "stderr",
          "text": [
            "[nltk_data] Downloading package punkt to /root/nltk_data...\n",
            "[nltk_data]   Unzipping tokenizers/punkt.zip.\n"
          ]
        },
        {
          "output_type": "execute_result",
          "data": {
            "text/plain": [
              "True"
            ]
          },
          "metadata": {},
          "execution_count": 4
        }
      ]
    },
    {
      "cell_type": "code",
      "source": [
        "nltk.download('stopwords')"
      ],
      "metadata": {
        "colab": {
          "base_uri": "https://localhost:8080/"
        },
        "id": "VUh3wsI64bWe",
        "outputId": "58951033-24ae-47f7-f268-1ba4a22eb6c4"
      },
      "execution_count": null,
      "outputs": [
        {
          "output_type": "stream",
          "name": "stderr",
          "text": [
            "[nltk_data] Downloading package stopwords to /root/nltk_data...\n",
            "[nltk_data]   Unzipping corpora/stopwords.zip.\n"
          ]
        },
        {
          "output_type": "execute_result",
          "data": {
            "text/plain": [
              "True"
            ]
          },
          "metadata": {},
          "execution_count": 5
        }
      ]
    },
    {
      "cell_type": "code",
      "source": [
        "import nltk"
      ],
      "metadata": {
        "id": "xdRYWwHX4r-g"
      },
      "execution_count": null,
      "outputs": []
    },
    {
      "cell_type": "code",
      "execution_count": null,
      "metadata": {
        "colab": {
          "base_uri": "https://localhost:8080/"
        },
        "id": "Tm_136TuhE43",
        "outputId": "a7aac8f2-b989-42f3-ec0d-5c8f762fb11f"
      },
      "outputs": [
        {
          "output_type": "execute_result",
          "data": {
            "text/plain": [
              "['Hello',\n",
              " ',',\n",
              " 'Welcome',\n",
              " 'Python',\n",
              " 'Programming',\n",
              " 'Academy',\n",
              " '.',\n",
              " 'Python',\n",
              " 'Programming',\n",
              " 'Academy',\n",
              " 'nice',\n",
              " 'platform',\n",
              " 'learn',\n",
              " 'new',\n",
              " 'programming',\n",
              " 'skills',\n",
              " '.',\n",
              " 'It',\n",
              " 'difficult',\n",
              " 'get',\n",
              " 'enrolled',\n",
              " 'Academy',\n",
              " '.']"
            ]
          },
          "metadata": {},
          "execution_count": 6
        }
      ],
      "source": [
        "from nltk.corpus import stopwords\n",
        "from nltk.tokenize import word_tokenize\n",
        "\n",
        "text = \"\"\"Hello all, Welcome to Python Programming Academy. Python\n",
        "Programming Academy is a nice platform to learn new programming skills. It is difficult to get enrolled\n",
        "in this Academy.\"\"\"\n",
        "\n",
        "stopWords = set(stopwords.words(\"english\"))\n",
        "\n",
        "words = word_tokenize(text)\n",
        "filtered_words =[]\n",
        "for word in words:\n",
        "    if word not in stopWords:\n",
        "        filtered_words.append(word)\n",
        "\n",
        "filtered_words"
      ]
    }
  ]
}
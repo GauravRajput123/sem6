{
  "nbformat": 4,
  "nbformat_minor": 0,
  "metadata": {
    "colab": {
      "provenance": []
    },
    "kernelspec": {
      "name": "python3",
      "display_name": "Python 3"
    },
    "language_info": {
      "name": "python"
    }
  },
  "cells": [
    {
      "cell_type": "markdown",
      "source": [
        "Consider any text paragraph. Preprocess the text to remove any special characters and digits.\n",
        "Generate the summary using extractive summarization process"
      ],
      "metadata": {
        "id": "r0WpU7DBXv4n"
      }
    },
    {
      "cell_type": "code",
      "source": [
        "pip install nltk"
      ],
      "metadata": {
        "colab": {
          "base_uri": "https://localhost:8080/"
        },
        "id": "nkJ9CD_nzi8o",
        "outputId": "f0dfaee5-a342-4db7-b266-6fe121d90cab"
      },
      "execution_count": null,
      "outputs": [
        {
          "output_type": "stream",
          "name": "stdout",
          "text": [
            "Requirement already satisfied: nltk in /usr/local/lib/python3.10/dist-packages (3.8.1)\n",
            "Requirement already satisfied: click in /usr/local/lib/python3.10/dist-packages (from nltk) (8.1.7)\n",
            "Requirement already satisfied: joblib in /usr/local/lib/python3.10/dist-packages (from nltk) (1.4.0)\n",
            "Requirement already satisfied: regex>=2021.8.3 in /usr/local/lib/python3.10/dist-packages (from nltk) (2023.12.25)\n",
            "Requirement already satisfied: tqdm in /usr/local/lib/python3.10/dist-packages (from nltk) (4.66.2)\n"
          ]
        }
      ]
    },
    {
      "cell_type": "code",
      "source": [
        "nltk.download('punkt')"
      ],
      "metadata": {
        "colab": {
          "base_uri": "https://localhost:8080/"
        },
        "id": "n7h9HBuBzrFt",
        "outputId": "de3bcd73-5833-4a55-d503-287801b02c8d"
      },
      "execution_count": null,
      "outputs": [
        {
          "output_type": "stream",
          "name": "stderr",
          "text": [
            "[nltk_data] Downloading package punkt to /root/nltk_data...\n",
            "[nltk_data]   Unzipping tokenizers/punkt.zip.\n"
          ]
        },
        {
          "output_type": "execute_result",
          "data": {
            "text/plain": [
              "True"
            ]
          },
          "metadata": {},
          "execution_count": 6
        }
      ]
    },
    {
      "cell_type": "code",
      "source": [
        "import nltk"
      ],
      "metadata": {
        "id": "Wn4l9jm-808B"
      },
      "execution_count": null,
      "outputs": []
    },
    {
      "cell_type": "code",
      "execution_count": null,
      "metadata": {
        "id": "F4nifpYEXmaL"
      },
      "outputs": [],
      "source": [
        "text = \"\"\"\n",
        "Natural language processing (NLP) is a subfield of linguistics, computer science, and artificial intelligence\n",
        "concerned with the interactions between computers and human language, in particular how to program computers\n",
        "to process and analyze large amounts of natural language data. Challenges in natural language processing frequently\n",
        "involve speech recognition, natural language understanding, and natural language generation. The history of natural\n",
        "language processing generally started in the 1950s, although work can be found from earlier periods. In 1950, Alan Turing\n",
        "published an article titled \"Computing Machinery and Intelligence\" which proposed what is now called the Turing Test\n",
        "as a criterion of intelligence.\n",
        "\"\"\"\n"
      ]
    },
    {
      "cell_type": "code",
      "source": [
        "import re\n",
        "\n",
        "# Remove special characters and digits\n",
        "preprocessed_text = re.sub(r\"[^a-zA-Z\\s]\", \"\", text)\n",
        "\n",
        "# Convert the text to lowercase\n",
        "preprocessed_text = preprocessed_text.lower()\n",
        "\n",
        "print(\"Preprocessed text:\")\n",
        "print(preprocessed_text)\n"
      ],
      "metadata": {
        "colab": {
          "base_uri": "https://localhost:8080/"
        },
        "id": "Rh-KtygM0rnA",
        "outputId": "35a3dd65-d18b-49e8-bf60-4f9a083ec327"
      },
      "execution_count": null,
      "outputs": [
        {
          "output_type": "stream",
          "name": "stdout",
          "text": [
            "Preprocessed text:\n",
            "\n",
            "natural language processing nlp is a subfield of linguistics computer science and artificial intelligence \n",
            "concerned with the interactions between computers and human language in particular how to program computers \n",
            "to process and analyze large amounts of natural language data challenges in natural language processing frequently \n",
            "involve speech recognition natural language understanding and natural language generation the history of natural \n",
            "language processing generally started in the s although work can be found from earlier periods in  alan turing \n",
            "published an article titled computing machinery and intelligence which proposed what is now called the turing test \n",
            "as a criterion of intelligence\n",
            "\n"
          ]
        }
      ]
    },
    {
      "cell_type": "code",
      "source": [
        "from nltk.tokenize import sent_tokenize\n",
        "from sklearn.feature_extraction.text import CountVectorizer\n",
        "from sklearn.metrics.pairwise import cosine_similarity\n",
        "\n",
        "# Tokenize the preprocessed text into sentences\n",
        "sentences = sent_tokenize(preprocessed_text)\n",
        "\n",
        "# Create a CountVectorizer object to convert sentences to vectors\n",
        "vectorizer = CountVectorizer()\n",
        "X = vectorizer.fit_transform(sentences)\n",
        "\n",
        "# Calculate pairwise cosine similarity between sentences\n",
        "cosine_similarities = cosine_similarity(X, X)\n",
        "\n",
        "# Generate the summary\n",
        "summary_sentences = []\n",
        "for i in range(cosine_similarities.shape[0]):\n",
        "    similarity_scores = cosine_similarities[i]\n",
        "    # Exclude the current sentence itself from the similarity scores\n",
        "    similarity_scores[i] = 0\n",
        "    # Get the index of the most similar sentence\n",
        "    most_similar_sentence_index = similarity_scores.argmax()\n",
        "    # Add the most similar sentence to the summary if it's not already in the summary\n",
        "    if most_similar_sentence_index not in summary_sentences:\n",
        "        summary_sentences.append(most_similar_sentence_index)\n",
        "\n",
        "# Sort the indices of the summary sentences\n",
        "summary_sentences.sort()\n",
        "\n",
        "# Print the summary\n",
        "print(\"\\nSummary:\")\n",
        "for index in summary_sentences:\n",
        "    print(sentences[index])\n"
      ],
      "metadata": {
        "colab": {
          "base_uri": "https://localhost:8080/"
        },
        "id": "o_ENoDmG05LO",
        "outputId": "7e613c65-b2c2-4bec-c496-6d22e52ed14d"
      },
      "execution_count": null,
      "outputs": [
        {
          "output_type": "stream",
          "name": "stdout",
          "text": [
            "\n",
            "Summary:\n",
            "\n",
            "natural language processing nlp is a subfield of linguistics computer science and artificial intelligence \n",
            "concerned with the interactions between computers and human language in particular how to program computers \n",
            "to process and analyze large amounts of natural language data challenges in natural language processing frequently \n",
            "involve speech recognition natural language understanding and natural language generation the history of natural \n",
            "language processing generally started in the s although work can be found from earlier periods in  alan turing \n",
            "published an article titled computing machinery and intelligence which proposed what is now called the turing test \n",
            "as a criterion of intelligence\n"
          ]
        }
      ]
    }
  ]
}
{
  "nbformat": 4,
  "nbformat_minor": 0,
  "metadata": {
    "colab": {
      "provenance": []
    },
    "kernelspec": {
      "name": "python3",
      "display_name": "Python 3"
    },
    "language_info": {
      "name": "python"
    }
  },
  "cells": [
    {
      "cell_type": "markdown",
      "source": [
        "Build a simple linear regression model for Car Dataset."
      ],
      "metadata": {
        "id": "Kqe8NoPgklj6"
      }
    },
    {
      "cell_type": "code",
      "execution_count": null,
      "metadata": {
        "id": "oHZJpTWukfps"
      },
      "outputs": [],
      "source": [
        "\n",
        "import pandas as pd\n",
        "import numpy as np\n",
        "from sklearn.model_selection import train_test_split\n",
        "from sklearn.linear_model import LinearRegression\n",
        "from sklearn.metrics import mean_squared_error ,r2_score\n",
        "car_data = pd.read_csv(\"/content/car_data.csv\")\n",
        "\n",
        "car_data.dropna(inplace = True)\n",
        "x = car_data[['year' ,'km_driven']]\n",
        "y = car_data['selling_price']\n",
        "\n",
        "x_train,x_test,y_train,y_test = train_test_split(x,y,test_size = 0.25)"
      ]
    },
    {
      "cell_type": "code",
      "source": [
        "\n",
        "model = LinearRegression()\n",
        "\n",
        "model.fit(x_train,y_train)\n",
        "\n",
        "y_pred = model.predict(x_test)"
      ],
      "metadata": {
        "id": "OLoBiPOB6HgY"
      },
      "execution_count": null,
      "outputs": []
    },
    {
      "cell_type": "code",
      "source": [
        "mse = mean_squared_error(y_test , y_pred)\n",
        "r2 = r2_score(y_test , y_pred)\n",
        "\n",
        "print(\"Mean Squared Error :\" , mse)\n",
        "print(\"R-squared score :\" , r2)\n",
        "\n",
        "print(y_pred)"
      ],
      "metadata": {
        "colab": {
          "base_uri": "https://localhost:8080/"
        },
        "id": "tMfRB99B6Kp3",
        "outputId": "fdbedbde-37c3-4dbd-cb7f-e70b88902c93"
      },
      "execution_count": null,
      "outputs": [
        {
          "output_type": "stream",
          "name": "stdout",
          "text": [
            "Mean Squared Error : 256572578129.77374\n",
            "R-squared score : 0.1885616234079086\n",
            "[733017.16241455 334921.49498683 729532.66188726 ...  -2698.91548783\n",
            " 494564.42676872 333489.97157542]\n"
          ]
        }
      ]
    }
  ]
}
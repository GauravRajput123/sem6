{
  "nbformat": 4,
  "nbformat_minor": 0,
  "metadata": {
    "colab": {
      "provenance": []
    },
    "kernelspec": {
      "name": "python3",
      "display_name": "Python 3"
    },
    "language_info": {
      "name": "python"
    }
  },
  "cells": [
    {
      "cell_type": "markdown",
      "source": [
        "Create the following dataset in python & Convert the categorical values into numeric format.Apply\n",
        "the apriori algorithm on the above dataset to generate the frequent itemsets and associationrules. Repeat\n",
        "the process with different min_sup values."
      ],
      "metadata": {
        "id": "NDqI7HmUO6sR"
      }
    },
    {
      "cell_type": "code",
      "execution_count": null,
      "metadata": {
        "colab": {
          "base_uri": "https://localhost:8080/"
        },
        "id": "7BFUsjlbO5PN",
        "outputId": "e3aae18f-6044-4159-b8a8-c99a93fb9806"
      },
      "outputs": [
        {
          "output_type": "stream",
          "name": "stdout",
          "text": [
            "   support        itemsets\n",
            "0      0.8        (butter)\n",
            "1      0.8          (milk)\n",
            "2      0.8  (butter, milk)\n",
            "  antecedents consequents  antecedent support  consequent support  support  \\\n",
            "0    (butter)      (milk)                 0.8                 0.8      0.8   \n",
            "1      (milk)    (butter)                 0.8                 0.8      0.8   \n",
            "\n",
            "   confidence  lift  leverage  conviction  zhangs_metric  \n",
            "0         1.0  1.25      0.16         inf            1.0  \n",
            "1         1.0  1.25      0.16         inf            1.0  \n"
          ]
        }
      ],
      "source": [
        "\n",
        "import pandas as pd\n",
        "from mlxtend.frequent_patterns import apriori , association_rules\n",
        "from mlxtend.preprocessing import TransactionEncoder\n",
        "\n",
        "transation = [['butter','bread','milk'],\n",
        "              ['butter','flour','milk','sugar'],\n",
        "              ['butter','eggs' ,'milk','salt'],\n",
        "              ['eggs'],\n",
        "              ['butter','flour','milk','salt']]\n",
        "\n",
        "te = TransactionEncoder()\n",
        "te_array = te.fit(transation).transform(transation)\n",
        "df = pd.DataFrame(te_array, columns=te.columns_ )\n",
        "\n",
        "freq_pattern = apriori(df , min_support=0.8 , use_colnames=True)\n",
        "\n",
        "print(freq_pattern)\n",
        "\n",
        "rules = association_rules(freq_pattern , metric='support' , min_threshold=0.05)\n",
        "print(rules)"
      ]
    }
  ]
}
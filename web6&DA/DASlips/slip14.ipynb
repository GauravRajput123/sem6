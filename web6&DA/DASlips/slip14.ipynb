{
  "nbformat": 4,
  "nbformat_minor": 0,
  "metadata": {
    "colab": {
      "provenance": []
    },
    "kernelspec": {
      "name": "python3",
      "display_name": "Python 3"
    },
    "language_info": {
      "name": "python"
    }
  },
  "cells": [
    {
      "cell_type": "markdown",
      "source": [
        "Create the following dataset in python & Convert the categorical values into numeric format.Apply\n",
        "the apriori algorithm on the above dataset to generate the frequent itemsets and association rules. Repeat\n",
        "the process with different min_sup values."
      ],
      "metadata": {
        "id": "ucTS9JUyWqAh"
      }
    },
    {
      "cell_type": "code",
      "execution_count": null,
      "metadata": {
        "colab": {
          "base_uri": "https://localhost:8080/"
        },
        "id": "HDRBRkDORO72",
        "outputId": "de0b9fa6-f4f3-4b52-8634-b510bbf58ae4"
      },
      "outputs": [
        {
          "output_type": "stream",
          "name": "stdout",
          "text": [
            "   support                  itemsets\n",
            "0     0.75                  (Banana)\n",
            "1     0.75                 (Carrots)\n",
            "2     1.00                   (Mango)\n",
            "3     0.50         (Carrots, Banana)\n",
            "4     0.75           (Mango, Banana)\n",
            "5     0.75          (Mango, Carrots)\n",
            "6     0.50  (Mango, Carrots, Banana)\n",
            "          antecedents        consequents  antecedent support  \\\n",
            "0           (Carrots)           (Banana)                0.75   \n",
            "1            (Banana)          (Carrots)                0.75   \n",
            "2             (Mango)           (Banana)                1.00   \n",
            "3            (Banana)            (Mango)                0.75   \n",
            "4             (Mango)          (Carrots)                1.00   \n",
            "5           (Carrots)            (Mango)                0.75   \n",
            "6    (Carrots, Mango)           (Banana)                0.75   \n",
            "7     (Mango, Banana)          (Carrots)                0.75   \n",
            "8   (Carrots, Banana)            (Mango)                0.50   \n",
            "9             (Mango)  (Carrots, Banana)                1.00   \n",
            "10          (Carrots)    (Mango, Banana)                0.75   \n",
            "11           (Banana)   (Carrots, Mango)                0.75   \n",
            "\n",
            "    consequent support  support  confidence      lift  leverage  conviction  \\\n",
            "0                 0.75     0.50    0.666667  0.888889   -0.0625        0.75   \n",
            "1                 0.75     0.50    0.666667  0.888889   -0.0625        0.75   \n",
            "2                 0.75     0.75    0.750000  1.000000    0.0000        1.00   \n",
            "3                 1.00     0.75    1.000000  1.000000    0.0000         inf   \n",
            "4                 0.75     0.75    0.750000  1.000000    0.0000        1.00   \n",
            "5                 1.00     0.75    1.000000  1.000000    0.0000         inf   \n",
            "6                 0.75     0.50    0.666667  0.888889   -0.0625        0.75   \n",
            "7                 0.75     0.50    0.666667  0.888889   -0.0625        0.75   \n",
            "8                 1.00     0.50    1.000000  1.000000    0.0000         inf   \n",
            "9                 0.50     0.50    0.500000  1.000000    0.0000        1.00   \n",
            "10                0.75     0.50    0.666667  0.888889   -0.0625        0.75   \n",
            "11                0.75     0.50    0.666667  0.888889   -0.0625        0.75   \n",
            "\n",
            "    zhangs_metric  \n",
            "0       -0.333333  \n",
            "1       -0.333333  \n",
            "2        0.000000  \n",
            "3        0.000000  \n",
            "4        0.000000  \n",
            "5        0.000000  \n",
            "6       -0.333333  \n",
            "7       -0.333333  \n",
            "8        0.000000  \n",
            "9        0.000000  \n",
            "10      -0.333333  \n",
            "11      -0.333333  \n"
          ]
        }
      ],
      "source": [
        "\n",
        "import pandas as pd\n",
        "from mlxtend.frequent_patterns import apriori , association_rules\n",
        "from mlxtend.preprocessing import TransactionEncoder\n",
        "\n",
        "tansactions = [['Apple','Mango','Banana'],\n",
        "               ['Mango','Banana','Cabbage','Carrots'],\n",
        "               ['Mango','Banana' ,'Carrots'],\n",
        "               ['Mango' ,'Carrots']]\n",
        "\n",
        "te = TransactionEncoder()\n",
        "te_array = te.fit(tansactions).transform(tansactions)\n",
        "\n",
        "df = pd.DataFrame(te_array , columns=te.columns_)\n",
        "\n",
        "freq_items = apriori(df , min_support=0.5 , use_colnames=True)\n",
        "print(freq_items)\n",
        "\n",
        "rules = association_rules(freq_items , metric='support' , min_threshold=0.05)\n",
        "print(rules)"
      ]
    }
  ]
}
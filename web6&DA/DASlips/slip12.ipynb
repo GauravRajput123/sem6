{
  "nbformat": 4,
  "nbformat_minor": 0,
  "metadata": {
    "colab": {
      "provenance": []
    },
    "kernelspec": {
      "name": "python3",
      "display_name": "Python 3"
    },
    "language_info": {
      "name": "python"
    }
  },
  "cells": [
    {
      "cell_type": "markdown",
      "source": [
        "Create ‘heights-and-weights’ Data set . Build a linear regression model by identifying independent\n",
        "and target variable. Split the variables into training and testing sets and print them. Build a simple linear\n",
        "regression model for predicting purchases"
      ],
      "metadata": {
        "id": "CZT0qSzsPcC-"
      }
    },
    {
      "cell_type": "code",
      "execution_count": null,
      "metadata": {
        "id": "D2VSSojuPY8q",
        "colab": {
          "base_uri": "https://localhost:8080/"
        },
        "outputId": "21996cd2-664a-4624-dd5b-a1718da2c9e2"
      },
      "outputs": [
        {
          "output_type": "stream",
          "name": "stdout",
          "text": [
            "Heights: [187.64052346 174.00157208 179.78737984 192.40893199 188.6755799 ]\n",
            "Weights: [103.23601522  80.26199074  83.54126493 101.05144954  88.47217293]\n"
          ]
        }
      ],
      "source": [
        "import numpy as np\n",
        "\n",
        "# Generate synthetic data for heights and weights\n",
        "np.random.seed(0)  # for reproducibility\n",
        "heights = np.random.normal(170, 10, 100)  # Mean height of 170 cm with standard deviation of 10 cm\n",
        "weights = 0.5 * heights + np.random.normal(0, 5, 100)  # Weight is half the height plus some noise\n",
        "\n",
        "# Display the first few entries of the dataset\n",
        "print(\"Heights:\", heights[:5])\n",
        "print(\"Weights:\", weights[:5])\n"
      ]
    },
    {
      "cell_type": "code",
      "source": [
        "# Independent variable: Heights\n",
        "X = heights.reshape(-1, 1)  # Reshape to column vector for compatibility with scikit-learn\n",
        "\n",
        "# Target variable: Weights\n",
        "y = weights\n",
        "\n",
        "# Display the shapes of X and y\n",
        "print(\"Shape of X (heights):\", X.shape)\n",
        "print(\"Shape of y (weights):\", y.shape)\n"
      ],
      "metadata": {
        "colab": {
          "base_uri": "https://localhost:8080/"
        },
        "id": "ElWOkJSAxv_O",
        "outputId": "4f1f7dd4-e48b-44dd-d527-91b64e9bfdcf"
      },
      "execution_count": null,
      "outputs": [
        {
          "output_type": "stream",
          "name": "stdout",
          "text": [
            "Shape of X (heights): (100, 1)\n",
            "Shape of y (weights): (100,)\n"
          ]
        }
      ]
    },
    {
      "cell_type": "code",
      "source": [
        "from sklearn.model_selection import train_test_split\n",
        "\n",
        "# Split the dataset into training and testing sets (80% train, 20% test)\n",
        "X_train, X_test, y_train, y_test = train_test_split(X, y, test_size=0.2, random_state=42)\n",
        "\n",
        "# Display the shapes of the training and testing sets\n",
        "print(\"Training set - X shape:\", X_train.shape, \"y shape:\", y_train.shape)\n",
        "print(\"Testing set - X shape:\", X_test.shape, \"y shape:\", y_test.shape)\n"
      ],
      "metadata": {
        "colab": {
          "base_uri": "https://localhost:8080/"
        },
        "id": "cu7UQNd2xx5L",
        "outputId": "e9921768-9d99-4767-996f-20df32cc4bc6"
      },
      "execution_count": null,
      "outputs": [
        {
          "output_type": "stream",
          "name": "stdout",
          "text": [
            "Training set - X shape: (80, 1) y shape: (80,)\n",
            "Testing set - X shape: (20, 1) y shape: (20,)\n"
          ]
        }
      ]
    },
    {
      "cell_type": "code",
      "source": [
        "from sklearn.linear_model import LinearRegression\n",
        "\n",
        "# Initialize the linear regression model\n",
        "model = LinearRegression()\n",
        "\n",
        "# Fit the model to the training data\n",
        "model.fit(X_train, y_train)\n",
        "\n",
        "# Print the coefficients\n",
        "print(\"Coefficient (slope):\", model.coef_)\n",
        "print(\"Intercept:\", model.intercept_)\n"
      ],
      "metadata": {
        "colab": {
          "base_uri": "https://localhost:8080/"
        },
        "id": "76Wc0ZgHxz8M",
        "outputId": "5d6e2d5d-c116-4f4f-f2b3-bbbcedf812df"
      },
      "execution_count": null,
      "outputs": [
        {
          "output_type": "stream",
          "name": "stdout",
          "text": [
            "Coefficient (slope): [0.5202822]\n",
            "Intercept: -2.8802657367240414\n"
          ]
        }
      ]
    }
  ]
}